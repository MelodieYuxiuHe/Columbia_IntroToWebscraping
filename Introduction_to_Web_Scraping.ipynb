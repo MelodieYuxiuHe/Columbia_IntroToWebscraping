{
 "cells": [
  {
   "cell_type": "markdown",
   "metadata": {},
   "source": [
    "<p><a name=\"sections\"></a></p>\n",
    "<br>\n",
    "<br>\n",
    "\n",
    "# Sections\n",
    "\n",
    "- <a href=\"#structures\">Data Structures Review</a><br>\n",
    "\n",
    "- <a href=\"#functions\">Functions and Methods</a><br>\n",
    "\n",
    "- <a href=\"#intro\">Introduction to Beautiful Soup</a><br>\n",
    "    - <a href=\"#web\">What is Web Scraping?</a><br>\n",
    "    - <a href=\"#html\">Introduction to HTML</a><br>\n",
    "    - <a href=\"#beautiful\">Basics of Beautiful Soup</a><br>\n",
    "\n",
    "- <a href=\"#example\">Example</a><br>\n",
    "    - <a href=\"#yelp\">Scraping Yelp Reviews</a><br>"
   ]
  },
  {
   "cell_type": "markdown",
   "metadata": {},
   "source": [
    "<p><a name=\"structures\"></a></p>\n",
    "\n",
    "## Data Structures Review\n",
    "\n",
    "**Everything is an object** in Python. That is the beauty of object-oriented programming. Objects are designed in specific ways to _organize and handle_ data.\n",
    "\n",
    "A **data structure** is an object format that enables efficient access and modification of data. There are many types of data strcutres in Python, but there are two that are important to know for web scraping: lists and dictionaries.\n",
    "\n",
    "### List\n",
    "\n",
    "- A list is an ordered collection of values. Examples: `[1,2,3,4]` and `[7.5, 'hello', None, [1,2,3]]`\n",
    "- Lists can contain any type of object. This means they can contain integers, strings, and even other lists!\n",
    "- Elements in a list do not necessarily all need to be the same data type."
   ]
  },
  {
   "cell_type": "markdown",
   "metadata": {},
   "source": [
    "We define a list by wrapping a collection of zero or more elements, separated by commas, in square brackets."
   ]
  },
  {
   "cell_type": "code",
   "execution_count": null,
   "metadata": {},
   "outputs": [],
   "source": [
    "my_list = [1,2,3,4]"
   ]
  },
  {
   "cell_type": "markdown",
   "metadata": {},
   "source": [
    "Note that we can also create a list with no elements. This is extremely useful - sort of like the number 0."
   ]
  },
  {
   "cell_type": "code",
   "execution_count": null,
   "metadata": {},
   "outputs": [],
   "source": [
    "empty_list = []"
   ]
  },
  {
   "cell_type": "markdown",
   "metadata": {},
   "source": [
    "We can subscript a list to extract specific elements within it. Python uses zero indexing, meaning indices start at 0 and count up."
   ]
  },
  {
   "cell_type": "code",
   "execution_count": null,
   "metadata": {
    "scrolled": true
   },
   "outputs": [],
   "source": [
    "my_list[0] # First element, returns 1"
   ]
  },
  {
   "cell_type": "code",
   "execution_count": null,
   "metadata": {
    "scrolled": false
   },
   "outputs": [],
   "source": [
    "my_list[3] # Fourth element, return 4"
   ]
  },
  {
   "cell_type": "markdown",
   "metadata": {},
   "source": [
    "There are many other operations we can do on lists, but this is enough to get us started."
   ]
  },
  {
   "cell_type": "markdown",
   "metadata": {},
   "source": [
    "### Dictionary\n",
    "\n",
    "- A dictionary in Python is like a list in that it stores values. However, a dictionary stores **key and value pairs**.\n",
    "- You can think of the keys in a dictionary as the indices of the values, but keys can be data types other than integers.\n",
    "- The most common data type used for dictionary keys is string."
   ]
  },
  {
   "cell_type": "markdown",
   "metadata": {},
   "source": [
    "We define a dictionary by warpping a collection of key and value pairs, separated by commas, in curly brackets."
   ]
  },
  {
   "cell_type": "code",
   "execution_count": null,
   "metadata": {},
   "outputs": [],
   "source": [
    "my_dict = {'key_one': 1, 'key_two': 2, 'key_three': 'three'}"
   ]
  },
  {
   "cell_type": "markdown",
   "metadata": {},
   "source": [
    "- The dictionary above contains three keys and each key has a single value, an `int` or a `str`.\n",
    "- We can extract a value by referencing the key associated with that value."
   ]
  },
  {
   "cell_type": "code",
   "execution_count": null,
   "metadata": {
    "scrolled": true
   },
   "outputs": [],
   "source": [
    "my_dict['key_two'] # Returns 2"
   ]
  },
  {
   "cell_type": "markdown",
   "metadata": {},
   "source": [
    "If we try to access a key that doesn't exist in the dictionary, Python will raise a `KeyError`."
   ]
  },
  {
   "cell_type": "code",
   "execution_count": null,
   "metadata": {},
   "outputs": [],
   "source": [
    "my_dict['unknown_key']"
   ]
  },
  {
   "cell_type": "markdown",
   "metadata": {},
   "source": [
    "We can add a new key by using the syntax above, except we assign a value to the new key."
   ]
  },
  {
   "cell_type": "code",
   "execution_count": null,
   "metadata": {},
   "outputs": [],
   "source": [
    "my_dict['key_four'] = 'new key'\n",
    "my_dict"
   ]
  },
  {
   "cell_type": "markdown",
   "metadata": {},
   "source": [
    "<p><a name=\"functions\"></a></p>\n",
    "\n",
    "## Functions and Methods\n",
    "\n",
    "- Functions in Python allow us the ability to give names to specific tasks that we often repeat.\n",
    "- When we name the operation, we can just call the name the next time we want to use it instead of writing the code all over again.\n",
    "- This saves a lot of time and makes code much cleaner and easier to read."
   ]
  },
  {
   "cell_type": "markdown",
   "metadata": {},
   "source": [
    "### Functions\n",
    "\n",
    "- There are functions everywhere in Python and they are here to help you!\n",
    "- Very often you can find a function written by someone that does exactly what you're planning to do.\n",
    "- It is important to note that many native Python functions are written in C or Cython (kind of like a C/Python hybrid) and run much faster than functions written in Python. For this reason, it is almost always better to use built-in Python functions than to \"reinvent the wheel\" by implementing the code yourself."
   ]
  },
  {
   "cell_type": "markdown",
   "metadata": {},
   "source": [
    "We define a function using this syntax:"
   ]
  },
  {
   "cell_type": "code",
   "execution_count": null,
   "metadata": {},
   "outputs": [],
   "source": [
    "def my_func(argument1, argument2):\n",
    "    # Function body\n",
    "    return argument1 * argument2 # This is what you want back from the function"
   ]
  },
  {
   "cell_type": "markdown",
   "metadata": {},
   "source": [
    "- A function can take an arbitrary number of arguments (the information we feed into the function).\n",
    "- A function can have a return statement (what it spits out), but it doesn't need one.\n",
    "- If a function has no return statement, the default return is `None` (this is a legimate type in Python)."
   ]
  },
  {
   "cell_type": "code",
   "execution_count": null,
   "metadata": {
    "scrolled": true
   },
   "outputs": [],
   "source": [
    "my_func(2,3) # Returns 6 (2 times 3)"
   ]
  },
  {
   "cell_type": "markdown",
   "metadata": {},
   "source": [
    "- Note that **functions in Python are objects!**\n",
    "- This means that we can pass functions as arguments to other functions."
   ]
  },
  {
   "cell_type": "code",
   "execution_count": null,
   "metadata": {},
   "outputs": [],
   "source": [
    "type(my_func)"
   ]
  },
  {
   "cell_type": "code",
   "execution_count": null,
   "metadata": {},
   "outputs": [],
   "source": [
    "def pass_a_func(L, func):\n",
    "    '''This function takes a list and a function\n",
    "    as arguments and performs the function on the list\n",
    "    and returns the result'''\n",
    "    \n",
    "    return func(L)"
   ]
  },
  {
   "cell_type": "code",
   "execution_count": null,
   "metadata": {
    "scrolled": true
   },
   "outputs": [],
   "source": [
    "lis = [1,2,3,4,5]\n",
    "\n",
    "pass_a_func(lis, max) # Returns 5"
   ]
  },
  {
   "cell_type": "code",
   "execution_count": null,
   "metadata": {},
   "outputs": [],
   "source": [
    "pass_a_func(lis, sum) # Returns 15"
   ]
  },
  {
   "cell_type": "markdown",
   "metadata": {},
   "source": [
    "### Methods\n",
    "\n",
    "- A method is just a special kind of function.\n",
    "- Python objects are defined by classes.\n",
    "    - Think of a class like the blueprints of an object. A class contains all the rules and operations that an object of that class type must follow.\n",
    "- Methods are functions that belong to a specific class. **The methods that belong to a certain class can only be used by objects of that class type!**"
   ]
  },
  {
   "cell_type": "markdown",
   "metadata": {},
   "source": [
    "- For example, the `str` class hs many differend methods used for manipulating strings.\n",
    "- To call a method using an object, follow this form:\n",
    "    - `object.method(arguments)`"
   ]
  },
  {
   "cell_type": "code",
   "execution_count": null,
   "metadata": {
    "scrolled": true
   },
   "outputs": [],
   "source": [
    "sentence = 'Hello world!'\n",
    "\n",
    "sentence.upper() # Converts the characters to uppercase"
   ]
  },
  {
   "cell_type": "markdown",
   "metadata": {},
   "source": [
    "- Note that this does not change the original object, it just returns a different version of it."
   ]
  },
  {
   "cell_type": "code",
   "execution_count": null,
   "metadata": {},
   "outputs": [],
   "source": [
    "sentence # The original object hasn't changed"
   ]
  },
  {
   "cell_type": "markdown",
   "metadata": {},
   "source": [
    "- If we try to call the `upper()` method on a list, we will get an error."
   ]
  },
  {
   "cell_type": "code",
   "execution_count": null,
   "metadata": {
    "scrolled": true
   },
   "outputs": [],
   "source": [
    "my_list = [1,2,3,4]\n",
    "\n",
    "my_list.upper()"
   ]
  },
  {
   "cell_type": "markdown",
   "metadata": {},
   "source": [
    "- There is no method called `upper()` that belongs to the `list` class, so a `list` object is not allowed to call that method!\n",
    "- To see what methods and attributes belong to a certain object or class, use the `dir()` function."
   ]
  },
  {
   "cell_type": "code",
   "execution_count": null,
   "metadata": {
    "scrolled": true
   },
   "outputs": [],
   "source": [
    "dir(sentence) # upper is in this list, so we can use it!"
   ]
  },
  {
   "cell_type": "markdown",
   "metadata": {},
   "source": [
    "Let's try another string method."
   ]
  },
  {
   "cell_type": "code",
   "execution_count": null,
   "metadata": {
    "scrolled": false
   },
   "outputs": [],
   "source": [
    "sentence.split() # This will split the string on every space and return a list"
   ]
  },
  {
   "cell_type": "markdown",
   "metadata": {},
   "source": [
    "We can change the value of the argument `sep` if our string has different separating characters."
   ]
  },
  {
   "cell_type": "code",
   "execution_count": null,
   "metadata": {
    "scrolled": false
   },
   "outputs": [],
   "source": [
    "'Hello,this,sentence,is,separated,by,commas.'.split(sep = ',') # The default value of sep is one space"
   ]
  },
  {
   "cell_type": "markdown",
   "metadata": {},
   "source": [
    "<p><a name=\"web\"></a></p>\n",
    "\n",
    "## What is Web Scraping?\n",
    "\n",
    "- HTML is short for **HyperText Markup Language**. It's a language for presenting content on the Web.\n",
    "\n",
    "- Plain text is turned into an HTML document by **tags** that are then interpreted by a browser.\n",
    "\n",
    "- Using BeautifulSoup, you can easily extract the tag values from HTML source code."
   ]
  },
  {
   "cell_type": "markdown",
   "metadata": {},
   "source": [
    "### Beautiful Soup VS Regular Expressions"
   ]
  },
  {
   "cell_type": "code",
   "execution_count": null,
   "metadata": {
    "scrolled": true
   },
   "outputs": [],
   "source": [
    "# the source code of hi.html\n",
    "!cat data/hi.html\n",
    "# Windows user\n",
    "# !type data\\hi.html"
   ]
  },
  {
   "cell_type": "markdown",
   "metadata": {},
   "source": [
    "### Example:\n",
    "- Extract the characters between the title tags. \n",
    "\n",
    "\n",
    "- In this case it's `Hi` (`<title>Hi</title>`)."
   ]
  },
  {
   "cell_type": "markdown",
   "metadata": {},
   "source": [
    "- **Solution using Regular Expressions**"
   ]
  },
  {
   "cell_type": "code",
   "execution_count": null,
   "metadata": {},
   "outputs": [],
   "source": [
    "import re\n",
    "hi_path = 'data/hi.html'\n",
    "with open(hi_path, 'r') as f:\n",
    "    hi = f.read()\n",
    "    print(re.findall('<title>(.*)</title>', hi))"
   ]
  },
  {
   "cell_type": "markdown",
   "metadata": {},
   "source": [
    "- **Solution using BeautifulSoup**"
   ]
  },
  {
   "cell_type": "code",
   "execution_count": null,
   "metadata": {},
   "outputs": [],
   "source": [
    "from bs4 import BeautifulSoup\n",
    "with open(hi_path, 'r') as f:\n",
    "    hi = f.read()\n",
    "    hi = BeautifulSoup(hi, 'html.parser')\n",
    "    print(hi.title) # find the title tag\n",
    "    print(hi.title.string)  # find the value of tag"
   ]
  },
  {
   "cell_type": "markdown",
   "metadata": {},
   "source": [
    "**Compared with regular expressions:**\n",
    "    \n",
    "- Beautiful Soup's syntax is much simpler, while regular expressions are more flexible."
   ]
  },
  {
   "cell_type": "markdown",
   "metadata": {},
   "source": [
    "<p><a name=\"html\"></a></p>\n",
    "\n",
    "## Introduction to HTML"
   ]
  },
  {
   "cell_type": "markdown",
   "metadata": {},
   "source": [
    "### Example html document\n",
    "```\n",
    "<!DOCTYPE html>\n",
    "<html>\n",
    "    <head>\n",
    "        <title>Hi</title> <!--Im a comment, ignore me.-->\n",
    "    </head>\n",
    "    <body>\n",
    "        <a href='http://www.crummy.com/software/BeautifulSoup/'>Hello, beautifulsoup!</a>\n",
    "    </body>\n",
    "</html>\n",
    "\n",
    "```"
   ]
  },
  {
   "cell_type": "markdown",
   "metadata": {},
   "source": [
    "### Tag\n",
    "\n",
    "- The `<title>` tags in this example designate the enclosed text as the title to be displayed in the head of the browser tab.\n",
    "![hi](pic/hi.png)\n",
    "- Tags are always enclosed by `<` and `>` to distinguish them from the content. \n",
    "- A pair of tags consist of start and end tags which have the same name, but the end tag is preceded by a slash `/` ."
   ]
  },
  {
   "cell_type": "markdown",
   "metadata": {},
   "source": [
    "### Values\n",
    "\n",
    "Values are the content between start and end tags.\n",
    "\n",
    "- **Example:**\n",
    "\n",
    "`<title>Hi</title>` is a title tag with a value of `Hi`."
   ]
  },
  {
   "cell_type": "markdown",
   "metadata": {},
   "source": [
    "### Attributes\n",
    "\n",
    "Tags have another feauture called attributes.\n",
    "\n",
    "- **Example:**\n",
    "\n",
    "`<a href='http://www.crummy.com/software/BeautifulSoup/'>Hello, beautifulsoup!</a>`\n",
    "\n",
    "This is an anchor tag `<a>` with an attribute `href` and hyperlink http://www.crummy.com/software/BeautifulSoup/. It creates text that points to another web address (a hyperlink)."
   ]
  },
  {
   "cell_type": "markdown",
   "metadata": {},
   "source": [
    "### Tree structure\n",
    "- The first tag in the example is the `<html>` tag. \n",
    "\n",
    "- Between the `<html>` tags, several tags are opened and closed again: `<head>, <title>` , and\n",
    "`<body>, <a>`.\n",
    "\n",
    "    - The `<head>` and `<body>` tags are directly enclosed by the `<html>` tag. \n",
    "    - The `<title>` tag is enclosed by the `<head>` tag.\n",
    "    - The `<a>` tag is enclosed by the `<body>` tag.\n",
    "\n",
    "\n",
    "- A good way to describe the multiple layers of an HTML document is the tree analogy. \n",
    "![html](pic/html.png)\n",
    "\n",
    "- The `html` tag is the root tag that splits into two branches, `<head>` and `<body>`; `<head>` is followed by another branch called `<title>`; `<body>` is followed by another branch called `<a>`."
   ]
  },
  {
   "cell_type": "markdown",
   "metadata": {},
   "source": [
    "<p><a name=\"beautiful\"></a></p>\n",
    "\n",
    "## Basics of Beautiful Soup"
   ]
  },
  {
   "cell_type": "markdown",
   "metadata": {},
   "source": [
    "### Parse HTML\n",
    "\n",
    "- The `prettify()` method adds indentations so that it will help you understand the tree structure of the html document."
   ]
  },
  {
   "cell_type": "code",
   "execution_count": null,
   "metadata": {},
   "outputs": [],
   "source": [
    "from bs4 import BeautifulSoup\n",
    "# open a local file and parse the plain text by BeautifulSoup directly\n",
    "with open(hi_path, 'r') as f:\n",
    "    hi = f.read()\n",
    "    hi = BeautifulSoup(hi, 'html.parser')\n",
    "    print(type(hi)) # get a bs4.BeautifulSoup object\n",
    "    print('\\n')\n",
    "    print(hi.prettify())"
   ]
  },
  {
   "cell_type": "markdown",
   "metadata": {},
   "source": [
    "### Names, Values, and Attributes\n",
    "\n",
    "Beautiful Soup can extract the `name`, `value` and `attributes` of tags. The corresponding methods are:\n",
    "- name\n",
    "- string\n",
    "- attrs"
   ]
  },
  {
   "cell_type": "code",
   "execution_count": null,
   "metadata": {},
   "outputs": [],
   "source": [
    "print(\"The name of a tags is: \", hi.a.name)\n",
    "print(\"The value of a tags is: \", hi.a.string)\n",
    "print(\"The attribute of a tags is: \", hi.a.attrs)"
   ]
  },
  {
   "cell_type": "markdown",
   "metadata": {},
   "source": [
    "## get_text() & get()\n",
    "- For tags that have child tags the `string` attribute does not work."
   ]
  },
  {
   "cell_type": "code",
   "execution_count": null,
   "metadata": {},
   "outputs": [],
   "source": [
    "print(hi.html.string)"
   ]
  },
  {
   "cell_type": "markdown",
   "metadata": {},
   "source": [
    "- Use the get_text method instead. The `get_text()` method will extract all the text content of child tags."
   ]
  },
  {
   "cell_type": "code",
   "execution_count": null,
   "metadata": {},
   "outputs": [],
   "source": [
    "print(hi.html.get_text())"
   ]
  },
  {
   "cell_type": "markdown",
   "metadata": {},
   "source": [
    "- `get()` is used to find the attribute of the `a` tag. For example, we can get the `href` of the `a` tag using the following code. \n",
    "\n",
    "- It is the same as running `hi.a.attrs` and then extracting the value of key `href` from the dictionary."
   ]
  },
  {
   "cell_type": "code",
   "execution_count": null,
   "metadata": {},
   "outputs": [],
   "source": [
    "print(hi.a.get('href'))"
   ]
  },
  {
   "cell_type": "code",
   "execution_count": null,
   "metadata": {},
   "outputs": [],
   "source": [
    "print(hi.a.attrs)"
   ]
  },
  {
   "cell_type": "markdown",
   "metadata": {},
   "source": [
    "### find() & find_all()\n",
    "- The functions `find` and `findall` are flexible for finding tags."
   ]
  },
  {
   "cell_type": "code",
   "execution_count": null,
   "metadata": {
    "scrolled": true
   },
   "outputs": [],
   "source": [
    "!cat data/article.html\n",
    "# Windows user\n",
    "# !type data\\article.html"
   ]
  },
  {
   "cell_type": "markdown",
   "metadata": {},
   "source": [
    "![article](pic/article.png)"
   ]
  },
  {
   "cell_type": "code",
   "execution_count": null,
   "metadata": {},
   "outputs": [],
   "source": [
    "article_path = 'data/article.html'\n",
    "with open(article_path, 'r') as f:\n",
    "    article = f.read()\n",
    "    article = BeautifulSoup(article, 'html.parser')"
   ]
  },
  {
   "cell_type": "markdown",
   "metadata": {},
   "source": [
    "- Return only the first `p` tag."
   ]
  },
  {
   "cell_type": "code",
   "execution_count": null,
   "metadata": {},
   "outputs": [],
   "source": [
    "print(article.p)"
   ]
  },
  {
   "cell_type": "markdown",
   "metadata": {},
   "source": [
    "- `find()` returns the first p tags, which is equivalent to article.p"
   ]
  },
  {
   "cell_type": "code",
   "execution_count": null,
   "metadata": {},
   "outputs": [],
   "source": [
    "print(article.find('p'))"
   ]
  },
  {
   "cell_type": "markdown",
   "metadata": {},
   "source": [
    "- `find_all()` returns all p tags"
   ]
  },
  {
   "cell_type": "code",
   "execution_count": null,
   "metadata": {},
   "outputs": [],
   "source": [
    "print(article.find_all('p'))"
   ]
  },
  {
   "cell_type": "markdown",
   "metadata": {},
   "source": [
    "- To find the tags that have specific attributes, you can pass a dictionary as the `attrs` argument."
   ]
  },
  {
   "cell_type": "code",
   "execution_count": null,
   "metadata": {},
   "outputs": [],
   "source": [
    "print(article.find_all('h1', attrs={'id':'one'}))"
   ]
  },
  {
   "cell_type": "markdown",
   "metadata": {},
   "source": [
    "- You can also specify a function to extract a list of Tag objects that match the given criteria.\n",
    "- It is the same as the following:"
   ]
  },
  {
   "cell_type": "code",
   "execution_count": null,
   "metadata": {},
   "outputs": [],
   "source": [
    "# the tags whose attribute id equals 'one'\n",
    "print(article.find_all(lambda tag: tag.get('id') == 'one'))"
   ]
  },
  {
   "cell_type": "markdown",
   "metadata": {},
   "source": [
    "<p><a name=\"example\"></a></p>\n",
    "\n",
    "## Example"
   ]
  },
  {
   "cell_type": "markdown",
   "metadata": {},
   "source": [
    "<p><a name=\"yelp\"></a></p>\n",
    "\n",
    "### Scrape Yelp Reviews\n",
    "- Let's apply what we have learned to a more complicated example - scrape Yelp reviews.\n",
    "- Our task is to scrape all the reviews of the ABC Kitchen Restaurant on Yelp. https://www.yelp.com/biz/abc-kitchen-new-york\n",
    "- You can easily extend this code to all the restaurants."
   ]
  },
  {
   "cell_type": "markdown",
   "metadata": {},
   "source": [
    "#### Step 1: Find the pattern of url"
   ]
  },
  {
   "cell_type": "code",
   "execution_count": null,
   "metadata": {},
   "outputs": [],
   "source": [
    "from bs4 import BeautifulSoup\n",
    "import requests\n",
    "\n",
    "response = requests.get('https://www.yelp.com/biz/abc-kitchen-new-york')\n",
    "text = BeautifulSoup(response.text, 'html.parser')"
   ]
  },
  {
   "cell_type": "markdown",
   "metadata": {},
   "source": [
    "- If you go to the second page, you can see the url becomes https://www.yelp.com/biz/abc-kitchen-new-york?start=20\n",
    "- Similarly, the url to the thid page: https://www.yelp.com/biz/abc-kitchen-new-york?start=40\n",
    "- But how do we find out the url of the last page?"
   ]
  },
  {
   "cell_type": "code",
   "execution_count": null,
   "metadata": {},
   "outputs": [],
   "source": [
    "import re\n",
    "num_reviews = text.find('span', attrs={'class': 'review-count rating-qualifier'}).string\n",
    "# \\d+ is a pattern in regular expression to extract numbers from raw string\n",
    "num_reviews = int(re.findall('\\d+', num_reviews)[0])\n",
    "print(num_reviews)"
   ]
  },
  {
   "cell_type": "code",
   "execution_count": null,
   "metadata": {},
   "outputs": [],
   "source": [
    "url_list = []\n",
    "for i in range(0, num_reviews, 20):\n",
    "    url_list.append('https://www.yelp.com/biz/abc-kitchen-new-york?start='+str(i))\n",
    "print(url_list[:10])"
   ]
  },
  {
   "cell_type": "markdown",
   "metadata": {},
   "source": [
    "#### Step 2: Find all the review divs on the page"
   ]
  },
  {
   "cell_type": "code",
   "execution_count": null,
   "metadata": {},
   "outputs": [],
   "source": [
    "reviews = text.find_all('div', attrs={'class':'review review--with-sidebar'})\n",
    "print(len(reviews))"
   ]
  },
  {
   "cell_type": "markdown",
   "metadata": {},
   "source": [
    "#### Step 3: Scrape the detail information\n",
    "\n",
    "For debugging purpose, we usually test it out on one review and then apply to the others."
   ]
  },
  {
   "cell_type": "code",
   "execution_count": null,
   "metadata": {},
   "outputs": [],
   "source": [
    "review = reviews[0]\n",
    "\n",
    "# Username\n",
    "username = review.find('a', attrs={'class': 'user-display-name js-analytics-click'}).string\n",
    "print(username)"
   ]
  },
  {
   "cell_type": "code",
   "execution_count": null,
   "metadata": {},
   "outputs": [],
   "source": [
    "# Location\n",
    "location = review.find('li', attrs={'class': 'user-location responsive-hidden-small'}).get_text()\n",
    "print(location)"
   ]
  },
  {
   "cell_type": "code",
   "execution_count": null,
   "metadata": {},
   "outputs": [],
   "source": [
    "# Rating\n",
    "rating = review.find('img', attrs={'class': 'offscreen'}).get('alt')\n",
    "# \\d+ is a pattern in regular expression to extract numbers from raw string\n",
    "rating = float(re.findall('\\d+', rating)[0])\n",
    "print(rating)"
   ]
  },
  {
   "cell_type": "code",
   "execution_count": null,
   "metadata": {},
   "outputs": [],
   "source": [
    "# Date\n",
    "date = review.find('span', attrs={'class': 'rating-qualifier'}).get_text()\n",
    "print(date)"
   ]
  },
  {
   "cell_type": "code",
   "execution_count": null,
   "metadata": {},
   "outputs": [],
   "source": [
    "# Content\n",
    "content = review.find('p').get_text()\n",
    "print(content)"
   ]
  },
  {
   "cell_type": "markdown",
   "metadata": {},
   "source": [
    "#### Step 4: Apply to all the reviews and save them to a csv file"
   ]
  },
  {
   "cell_type": "code",
   "execution_count": null,
   "metadata": {},
   "outputs": [],
   "source": [
    "import csv\n",
    " # Windows using text encoding when opening the file by default.# Windo \n",
    "# Override it to 'utf-8' will save lots of encoding issues.\n",
    "with open('reviews.csv', 'w', encoding='utf-8', newline='') as csvfile:\n",
    "    review_writer = csv.writer(csvfile)\n",
    "    for review in reviews:\n",
    "        # We use a dictionary to save one review because each review should have the same number of keys\n",
    "        dic = {}\n",
    "        # Code copied from the previous steps\n",
    "        username = review.find('a', attrs={'class': 'user-display-name js-analytics-click'}).string\n",
    "        location = review.find('li', attrs={'class': 'user-location responsive-hidden-small'}).get_text().strip()\n",
    "        date = review.find('span', attrs={'class': 'rating-qualifier'}).get_text().strip()\n",
    "        rating = review.find('img', attrs={'class': 'offscreen'}).get('alt')\n",
    "        rating = float(re.findall('\\d+', rating)[0])\n",
    "        content = review.find('p').text\n",
    "        # Assign values to the dictionary\n",
    "        dic['username'] = username\n",
    "        dic['location'] = location\n",
    "        dic['date'] = date\n",
    "        dic['rating'] = rating\n",
    "        dic['content'] = content\n",
    "        # Write the dictionaries to local csv file\n",
    "        review_writer.writerow(dic.values())"
   ]
  },
  {
   "cell_type": "markdown",
   "metadata": {},
   "source": [
    "#### Step 5: Apply to all the pages"
   ]
  },
  {
   "cell_type": "code",
   "execution_count": null,
   "metadata": {},
   "outputs": [],
   "source": [
    "import time\n",
    "import random\n",
    "\n",
    "\n",
    "def scrape_single_page(reviews, csvwriter):\n",
    "    for review in reviews:\n",
    "        dic = {}\n",
    "        username = review.find('a', attrs={'class': 'user-display-name js-analytics-click'}).text\n",
    "        location = review.find('li', attrs={'class': 'user-location responsive-hidden-small'}).text.strip()\n",
    "        date = review.find('span', attrs={'class': 'rating-qualifier'}).text.strip()\n",
    "        rating = review.find('img', attrs={'class': 'offscreen'}).get('alt')\n",
    "        rating = rating = float(re.findall('\\d+', rating)[0])\n",
    "        content = review.find('p').text\n",
    "        dic['username'] = username\n",
    "        dic['location'] = location\n",
    "        dic['date'] = date\n",
    "        dic['rating'] = rating\n",
    "        dic['content'] = content\n",
    "        csvwriter.writerow(dic.values())\n",
    "    \n",
    "\n",
    "with open('reviews.csv', 'w', encoding='utf-8', newline='') as csvfile:\n",
    "    review_writer = csv.writer(csvfile)\n",
    "    for index, url in enumerate(url_list):\n",
    "        response = requests.get(url).text\n",
    "        soup = BeautifulSoup(response, 'html.parser')\n",
    "        reviews = soup.find_all('div', attrs={'class':'review review--with-sidebar'})\n",
    "        scrape_single_page(reviews, review_writer)\n",
    "        # Random sleep to avoid getting banned from the server\n",
    "        time.sleep(random.randint(1,3))\n",
    "        # Log the progress\n",
    "        print('Finished page ' + str(index + 1))"
   ]
  },
  {
   "cell_type": "code",
   "execution_count": null,
   "metadata": {},
   "outputs": [],
   "source": []
  }
 ],
 "metadata": {
  "kernelspec": {
   "display_name": "Python 3",
   "language": "python",
   "name": "python3"
  },
  "language_info": {
   "codemirror_mode": {
    "name": "ipython",
    "version": 3
   },
   "file_extension": ".py",
   "mimetype": "text/x-python",
   "name": "python",
   "nbconvert_exporter": "python",
   "pygments_lexer": "ipython3",
   "version": "3.7.0"
  }
 },
 "nbformat": 4,
 "nbformat_minor": 1
}
